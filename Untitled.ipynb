{
 "cells": [
  {
   "cell_type": "code",
   "execution_count": 1,
   "metadata": {},
   "outputs": [
    {
     "name": "stdout",
     "output_type": "stream",
     "text": [
      "['fasttext-wiki-news-subwords-300', 'conceptnet-numberbatch-17-06-300', 'word2vec-ruscorpora-300', 'word2vec-google-news-300', 'glove-wiki-gigaword-50', 'glove-wiki-gigaword-100', 'glove-wiki-gigaword-200', 'glove-wiki-gigaword-300', 'glove-twitter-25', 'glove-twitter-50', 'glove-twitter-100', 'glove-twitter-200', '__testing_word2vec-matrix-synopsis']\n"
     ]
    }
   ],
   "source": [
    "from gensim.test.utils import common_texts\n",
    "from gensim.models import Word2Vec\n",
    "import gensim.downloader\n",
    "# download the word2vec model with common_texts\n",
    "\n",
    "model = Word2Vec(sentences=common_texts, vector_size=100, window=5, min_count=1, workers=4)\n",
    "# sims = model.wv.most_similar('computer', topn=10)  # get other similar words\n",
    "print(list(gensim.downloader.info()['models'].keys()))\n",
    "glove_vectors = gensim.downloader.load('glove-twitter-25')      # It's slow\n",
    "wv = glove_vectors\n"
   ]
  },
  {
   "cell_type": "code",
   "execution_count": 2,
   "metadata": {},
   "outputs": [
    {
     "name": "stdout",
     "output_type": "stream",
     "text": [
      "1193514\n"
     ]
    }
   ],
   "source": [
    "print(len(wv))"
   ]
  },
  {
   "cell_type": "code",
   "execution_count": 3,
   "metadata": {},
   "outputs": [
    {
     "name": "stdout",
     "output_type": "stream",
     "text": [
      "length of traininig data: 4641\n",
      "length of devolop data:  580\n",
      "length of test data:  581\n",
      "label of train and dev:  4641 580\n"
     ]
    }
   ],
   "source": [
    "# Load training data as train_data， write into train_file, test_file and label_file\n",
    "\n",
    "import jsonlines\n",
    "\n",
    "path = 'project-data/'\n",
    "train_data_path = 'train.data.jsonl'\n",
    "dev_data_path = 'dev.data.jsonl'\n",
    "test_data_path = 'test.data.jsonl'\n",
    "\n",
    "train_data = []\n",
    "with jsonlines.open(path + train_data_path) as reader:\n",
    "    for obj in reader:\n",
    "        train_data.append(obj)\n",
    "print('length of traininig data:', len(train_data))\n",
    "with open('my_data/train_file.txt', 'w') as o1:\n",
    "    for tree in train_data: \n",
    "        root_id = tree[0]['id']\n",
    "        o1.write(f'{root_id}\\n')\n",
    "        \n",
    "        \n",
    "# load the development data as dev_data(used as test_data in RvNN)\n",
    "dev_data = []\n",
    "with jsonlines.open(path + dev_data_path) as reader1:\n",
    "    for obj in reader1:\n",
    "        dev_data.append(obj)\n",
    "print('length of devolop data: ', len(dev_data))\n",
    "\n",
    "with open('my_data/dev_file.txt', 'w') as o2:\n",
    "    for tree in dev_data:\n",
    "        root_id = tree[0]['id']\n",
    "        o2.write(f'{root_id}\\n')\n",
    "        \n",
    "\n",
    "test_data = []\n",
    "with jsonlines.open(path + test_data_path) as reader2:\n",
    "    for obj in reader2:\n",
    "        test_data.append(obj)\n",
    "print('length of test data: ', len(test_data))\n",
    "\n",
    "with open('my_data/test_file.txt', 'w') as o2:\n",
    "    for tree in test_data:\n",
    "        root_id = tree[0]['id']\n",
    "        o2.write(f'{root_id}\\n')        \n",
    "\n",
    "import json\n",
    "\n",
    "train_label_path = 'train.label.json'\n",
    "dev_label_path = 'dev.label.json'\n",
    "with open(path+train_label_path) as f1, open(path+dev_label_path) as f2:\n",
    "    train_label = json.load(f1)\n",
    "    dev_label = json.load(f2)\n",
    "    \n",
    "print('label of train and dev: ', len(train_label), len(dev_label))\n",
    "with open('my_data/label_file.txt', 'w') as oo:\n",
    "    for key, value in train_label.items():\n",
    "        oo.write(f'{key} {value}\\n')\n",
    "    for key, value in dev_label.items():\n",
    "        oo.write(f'{key} {value}\\n')"
   ]
  },
  {
   "cell_type": "code",
   "execution_count": 4,
   "metadata": {},
   "outputs": [],
   "source": [
    "# Sort the three dataset in time_stamp order\n",
    "\n",
    "# Wed Jan 07 14:04:29 +0000 2015\n",
    "def time_stamp(dic):\n",
    "    # given a tweet dict\n",
    "    month_list = ['Jan', 'Feb', 'Mar', 'Apr', 'May', 'Jun', 'Jul', \"Aug\", 'Sep', 'Oct', 'Nov', 'Dec']\n",
    "    time = dic['created_at']\n",
    "    month = time[4:7]\n",
    "    day = time[8:10]\n",
    "    h = time[11:13]\n",
    "    m = time[14:16]\n",
    "    s = time[17:19]\n",
    "    return month_list.index(month)*86400*30 + int(day)*86400 + int(h)*3600 + int(m)*60 + int(s)*1\n",
    "\n",
    "\n",
    "for idx in range(len(train_data)):\n",
    "    train_data[idx] = sorted(train_data[idx], key=lambda tree_node: time_stamp(tree_node))\n",
    "\n",
    "for idx in range(len(test_data)):\n",
    "    test_data[idx] = sorted(test_data[idx], key=lambda tree_node: time_stamp(tree_node))\n",
    "\n",
    "for idx in range(len(dev_data)):\n",
    "    dev_data[idx] = sorted(dev_data[idx], key=lambda tree_node: time_stamp(tree_node))\n",
    "    "
   ]
  },
  {
   "cell_type": "code",
   "execution_count": 5,
   "metadata": {},
   "outputs": [],
   "source": [
    "# Get All texts and process them into Text and Dev\n",
    "\n",
    "\n",
    "Train_txt = []\n",
    "for tree in train_data:\n",
    "    sub_text = []\n",
    "    for elem in tree:\n",
    "        sub_text.append(elem['text'])\n",
    "    Train_txt.append(sub_text)\n",
    "    \n",
    "Dev_txt = []\n",
    "for tree in dev_data:\n",
    "    sub_text = []\n",
    "    for elem in tree:\n",
    "        sub_text.append(elem['text'])\n",
    "    Dev_txt.append(sub_text)\n",
    "    \n",
    "Test_txt = []\n",
    "for tree in test_data:\n",
    "    sub_text = []\n",
    "    for elem in tree:\n",
    "        sub_text.append(elem['text'])\n",
    "    Test_txt.append(sub_text)"
   ]
  },
  {
   "cell_type": "code",
   "execution_count": 6,
   "metadata": {},
   "outputs": [
    {
     "name": "stderr",
     "output_type": "stream",
     "text": [
      "[nltk_data] Downloading package stopwords to /Users/szg/nltk_data...\n",
      "[nltk_data]   Package stopwords is already up-to-date!\n",
      "[nltk_data] Downloading package wordnet to /Users/szg/nltk_data...\n",
      "[nltk_data]   Package wordnet is already up-to-date!\n"
     ]
    },
    {
     "name": "stdout",
     "output_type": "stream",
     "text": [
      "The corpus size:  42891\n",
      "respond\n"
     ]
    }
   ],
   "source": [
    "import nltk\n",
    "from nltk.tokenize import TweetTokenizer\n",
    "from nltk.corpus import stopwords\n",
    "import copy, re    # We need regular expression to filter tokens.\n",
    "tt = TweetTokenizer()\n",
    "nltk.download('stopwords')\n",
    "nltk.download('wordnet')\n",
    "stopwords = set(stopwords.words('english')) #note: stopwords are all in lowercase\n",
    "# import these modules\n",
    "from nltk.stem import WordNetLemmatizer\n",
    "\n",
    "lemma = WordNetLemmatizer()\n",
    "\n",
    "Text_list = [Train_txt, Dev_txt, Test_txt]\n",
    "\n",
    "\n",
    "def preprocess_text(data, dev, test):\n",
    "    '''\n",
    "    1. Tokenize the tweets\n",
    "    2. lowercase and remove non-English words and stopwords\n",
    "    3. Lemma\n",
    "    '''\n",
    "    word_dict = {} # Word dictionary\n",
    "    res = []       # All processed texts\n",
    "    sentences = []\n",
    "    \n",
    "    x = copy.deepcopy(data)\n",
    "    processed_train = []\n",
    "    for tree in x:\n",
    "        sub_res = []\n",
    "        for elem in tree:\n",
    "            # 1. Tokenize the Tweets\n",
    "            temp = tt.tokenize(elem)\n",
    "            # 2. Trans all word into lowercase\n",
    "            temp = [token.lower() for token in temp]\n",
    "            # 3. Remove non-English words and remove stopwords\n",
    "            temp = [token for token in temp if re.match(r'.*[a-z]+.*', token) \n",
    "                and token not in stopwords]\n",
    "            \n",
    "            # 4. Word Lemmatize\n",
    "            # HTTP 和 @ 视作单独一类\n",
    "            for idx in range(len(temp)):\n",
    "                if temp[idx][:4] == 'http':\n",
    "                    temp[idx] = 'http'\n",
    "                if temp[idx][:1] == '@':\n",
    "                    temp[idx] = '@'\n",
    "                if temp[idx][:1] == '#':\n",
    "                    temp[idx] = temp[idx][1:]\n",
    "                temp[idx] = lemma.lemmatize(temp[idx])\n",
    "                \n",
    "                \n",
    "                if temp[idx] not in word_dict:\n",
    "                    word_dict[temp[idx]] = 1\n",
    "                else:\n",
    "                    word_dict[temp[idx]] += 1\n",
    "            \n",
    "            sentences.append(temp)\n",
    "            sub_res.append(temp)\n",
    "        processed_train.append(sub_res)\n",
    "        \n",
    "        \n",
    "    x1 = copy.deepcopy(dev)\n",
    "    processed_dev = []\n",
    "    for tree in x1:\n",
    "        sub_res = []\n",
    "        for elem in tree:\n",
    "            temp = tt.tokenize(elem)\n",
    "            temp = [token.lower() for token in temp]\n",
    "            temp = [token for token in temp if re.match(r'.*[a-z]+.*', token) \n",
    "                and token not in stopwords]\n",
    "            for idx in range(len(temp)):\n",
    "                if temp[idx][:4] == 'http':\n",
    "                    temp[idx] = 'http'\n",
    "                if temp[idx][:1] == '@':\n",
    "                    temp[idx] = '@'\n",
    "                if temp[idx][:1] == '#':\n",
    "                    temp[idx] = temp[idx][1:]\n",
    "                temp[idx] = lemma.lemmatize(temp[idx])\n",
    "                if temp[idx] not in word_dict:\n",
    "                    word_dict[temp[idx]] = 1\n",
    "                else:\n",
    "                    word_dict[temp[idx]] += 1\n",
    "            sentences.append(temp)\n",
    "            sub_res.append(temp)\n",
    "        processed_dev.append(sub_res)\n",
    "        \n",
    "    x2 = copy.deepcopy(test)\n",
    "    processed_test = []\n",
    "    for tree in x2:\n",
    "        sub_res = []\n",
    "        for elem in tree:\n",
    "            temp = tt.tokenize(elem)\n",
    "            temp = [token.lower() for token in temp]\n",
    "            temp = [token for token in temp if re.match(r'.*[a-z]+.*', token) \n",
    "                and token not in stopwords]\n",
    "            for idx in range(len(temp)):\n",
    "                if temp[idx][:4] == 'http':\n",
    "                    temp[idx] = 'http'\n",
    "                if temp[idx][:1] == '@':\n",
    "                    temp[idx] = '@'\n",
    "                if temp[idx][:1] == '#':\n",
    "                    temp[idx] = temp[idx][1:]\n",
    "                temp[idx] = lemma.lemmatize(temp[idx])\n",
    "                if temp[idx] not in word_dict:\n",
    "                    word_dict[temp[idx]] = 1\n",
    "                else:\n",
    "                    word_dict[temp[idx]] += 1\n",
    "            sentences.append(temp)                \n",
    "            sub_res.append(temp)\n",
    "        processed_test.append(sub_res)\n",
    "      \n",
    "    res = [processed_train, processed_dev, processed_test]\n",
    "    return res, word_dict, sentences\n",
    "\n",
    "new_Text, word_dict, sentences = preprocess_text(Train_txt, Dev_txt, Test_txt)\n",
    "print('The corpus size: ', len(word_dict))\n",
    "print(new_Text[0][0][0][0])"
   ]
  },
  {
   "cell_type": "code",
   "execution_count": 7,
   "metadata": {},
   "outputs": [],
   "source": [
    "model = Word2Vec(sentences=sentences, vector_size=25, window=5, min_count=1, workers=4)"
   ]
  },
  {
   "cell_type": "code",
   "execution_count": 8,
   "metadata": {},
   "outputs": [
    {
     "name": "stdout",
     "output_type": "stream",
     "text": [
      "42891\n",
      "42891\n",
      "[-0.04037739  0.00901583 -0.03489088 -0.06772189 -0.0228288   0.04219422\n",
      "  0.07784726  0.05292467 -0.05530737 -0.07529449 -0.04815995 -0.0481802\n",
      " -0.00010254  0.01341962 -0.05861871  0.05711155 -0.02549151 -0.02785347\n",
      " -0.00340609  0.08764434  0.05402616  0.0204464   0.03429862  0.02554651\n",
      "  0.06760155]\n"
     ]
    }
   ],
   "source": [
    "print(len(model.wv))\n",
    "print(len(word_dict.keys()))\n",
    "print(model.wv['c4'])"
   ]
  },
  {
   "cell_type": "code",
   "execution_count": 9,
   "metadata": {},
   "outputs": [
    {
     "name": "stdout",
     "output_type": "stream",
     "text": [
      "respond\n"
     ]
    }
   ],
   "source": [
    "train_set, dev_set, test_set = new_Text[0], new_Text[1], new_Text[2]\n",
    "print(train_set[0][0][0])"
   ]
  },
  {
   "cell_type": "code",
   "execution_count": 10,
   "metadata": {},
   "outputs": [],
   "source": [
    "for idx in range(len(train_set)):\n",
    "    # tree: train_set[idx]\n",
    "    for sen_idx in range(len(train_set[idx])):\n",
    "        # sentence: train_set[idx][sen_idx]\n",
    "        for word_idx in range(len(train_set[idx][sen_idx])):\n",
    "            # word: train_set[idx][sen_idx][word_idx]\n",
    "            #print(train_set[idx][sen_idx][word_idx])\n",
    "            word_vec = model.wv[train_set[idx][sen_idx][word_idx]]\n",
    "            train_set[idx][sen_idx][word_idx] = word_vec\n",
    "        \n",
    "for idx in range(len(dev_set)):\n",
    "    # tree: dev_set[idx]\n",
    "    for sen_idx in range(len(dev_set[idx])):\n",
    "        # sentence: dev_set[idx][sen_idx]\n",
    "        for word_idx in range(len(dev_set[idx][sen_idx])):\n",
    "            # word: dev_set[idx][sen_idx][word_idx]\n",
    "            #print(dev_set[idx][sen_idx][word_idx])\n",
    "            word_vec = model.wv[dev_set[idx][sen_idx][word_idx]]\n",
    "            dev_set[idx][sen_idx][word_idx] = word_vec\n",
    "\n",
    "for idx in range(len(test_set)):\n",
    "    # tree: test_set[idx]\n",
    "    for sen_idx in range(len(test_set[idx])):\n",
    "        # sentence: test_set[idx][sen_idx]\n",
    "        for word_idx in range(len(test_set[idx][sen_idx])):\n",
    "            # word: test_set[idx][sen_idx][word_idx]\n",
    "            #print(test_set[idx][sen_idx][word_idx])\n",
    "            word_vec = model.wv[test_set[idx][sen_idx][word_idx]]\n",
    "            test_set[idx][sen_idx][word_idx] = word_vec\n",
    "\n",
    "\n",
    "        "
   ]
  },
  {
   "cell_type": "code",
   "execution_count": 113,
   "metadata": {},
   "outputs": [],
   "source": [
    "import pickle\n",
    "dirname = 'data/'\n",
    "def save_obj(obj, name ):\n",
    "    with open(dirname+ name + '.pkl', 'wb') as f:\n",
    "        pickle.dump(obj, f, pickle.HIGHEST_PROTOCOL)\n",
    "\n",
    "def load_obj(name ):\n",
    "    with open( dirname + name + '.pkl', 'rb') as f:\n",
    "        return pickle.load(f)\n",
    "\n",
    "\n",
    "save_obj(train_set, 'train_set')\n",
    "save_obj(dev_set,   'dev_test')\n",
    "save_obj(test_set,  'test_set')"
   ]
  }
 ],
 "metadata": {
  "kernelspec": {
   "display_name": "Python 3",
   "language": "python",
   "name": "python3"
  },
  "language_info": {
   "codemirror_mode": {
    "name": "ipython",
    "version": 3
   },
   "file_extension": ".py",
   "mimetype": "text/x-python",
   "name": "python",
   "nbconvert_exporter": "python",
   "pygments_lexer": "ipython3",
   "version": "3.8.3"
  }
 },
 "nbformat": 4,
 "nbformat_minor": 4
}
